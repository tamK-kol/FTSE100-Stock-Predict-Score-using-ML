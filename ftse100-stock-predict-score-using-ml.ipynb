{
 "cells": [
  {
   "cell_type": "code",
   "execution_count": 1,
   "id": "2e66b232",
   "metadata": {
    "_cell_guid": "b1076dfc-b9ad-4769-8c92-a6c4dae69d19",
    "_uuid": "8f2839f25d086af736a60e9eeb907d3b93b6e0e5",
    "execution": {
     "iopub.execute_input": "2024-01-05T11:00:13.883692Z",
     "iopub.status.busy": "2024-01-05T11:00:13.882555Z",
     "iopub.status.idle": "2024-01-05T11:00:14.386160Z",
     "shell.execute_reply": "2024-01-05T11:00:14.384596Z"
    },
    "papermill": {
     "duration": 0.520575,
     "end_time": "2024-01-05T11:00:14.389372",
     "exception": false,
     "start_time": "2024-01-05T11:00:13.868797",
     "status": "completed"
    },
    "tags": []
   },
   "outputs": [],
   "source": [
    "# This Python 3 environment comes with many helpful analytics libraries installed\n",
    "# It is defined by the kaggle/python Docker image: https://github.com/kaggle/docker-python\n",
    "# For example, here's several helpful packages to load\n",
    "\n",
    "import numpy as np # linear algebra\n",
    "import pandas as pd # data processing, CSV file I/O (e.g. pd.read_csv)\n",
    "\n",
    "# Input data files are available in the read-only \"../input/\" directory\n",
    "# For example, running this (by clicking run or pressing Shift+Enter) will list all files under the input directory\n",
    "\n",
    "import os\n",
    "for dirname, _, filenames in os.walk('/kaggle/input'):\n",
    "    for filename in filenames:\n",
    "        print(os.path.join(dirname, filename))\n",
    "\n",
    "# You can write up to 20GB to the current directory (/kaggle/working/) that gets preserved as output when you create a version using \"Save & Run All\" \n",
    "# You can also write temporary files to /kaggle/temp/, but they won't be saved outside of the current session"
   ]
  },
  {
   "cell_type": "code",
   "execution_count": 2,
   "id": "c8d72cf3",
   "metadata": {
    "execution": {
     "iopub.execute_input": "2024-01-05T11:00:14.415104Z",
     "iopub.status.busy": "2024-01-05T11:00:14.413457Z",
     "iopub.status.idle": "2024-01-05T11:01:01.777708Z",
     "shell.execute_reply": "2024-01-05T11:01:01.775470Z"
    },
    "papermill": {
     "duration": 47.380025,
     "end_time": "2024-01-05T11:01:01.780800",
     "exception": false,
     "start_time": "2024-01-05T11:00:14.400775",
     "status": "completed"
    },
    "tags": []
   },
   "outputs": [
    {
     "name": "stdout",
     "output_type": "stream",
     "text": [
      "Collecting yfinance\r\n",
      "  Obtaining dependency information for yfinance from https://files.pythonhosted.org/packages/09/82/5a5eee685095a6c1f8968db75bba8536baa8046c970be25e1ac91a843839/yfinance-0.2.33-py2.py3-none-any.whl.metadata\r\n",
      "  Downloading yfinance-0.2.33-py2.py3-none-any.whl.metadata (11 kB)\r\n",
      "Requirement already satisfied: pandas>=1.3.0 in /opt/conda/lib/python3.10/site-packages (from yfinance) (2.0.3)\r\n",
      "Requirement already satisfied: numpy>=1.16.5 in /opt/conda/lib/python3.10/site-packages (from yfinance) (1.24.3)\r\n",
      "Requirement already satisfied: requests>=2.31 in /opt/conda/lib/python3.10/site-packages (from yfinance) (2.31.0)\r\n",
      "Collecting multitasking>=0.0.7 (from yfinance)\r\n",
      "  Downloading multitasking-0.0.11-py3-none-any.whl (8.5 kB)\r\n",
      "Requirement already satisfied: lxml>=4.9.1 in /opt/conda/lib/python3.10/site-packages (from yfinance) (4.9.3)\r\n",
      "Requirement already satisfied: appdirs>=1.4.4 in /opt/conda/lib/python3.10/site-packages (from yfinance) (1.4.4)\r\n",
      "Requirement already satisfied: pytz>=2022.5 in /opt/conda/lib/python3.10/site-packages (from yfinance) (2023.3)\r\n",
      "Requirement already satisfied: frozendict>=2.3.4 in /opt/conda/lib/python3.10/site-packages (from yfinance) (2.3.10)\r\n",
      "Collecting peewee>=3.16.2 (from yfinance)\r\n",
      "  Downloading peewee-3.17.0.tar.gz (2.9 MB)\r\n",
      "\u001b[2K     \u001b[90m━━━━━━━━━━━━━━━━━━━━━━━━━━━━━━━━━━━━━━━━\u001b[0m \u001b[32m2.9/2.9 MB\u001b[0m \u001b[31m28.2 MB/s\u001b[0m eta \u001b[36m0:00:00\u001b[0m\r\n",
      "\u001b[?25h  Installing build dependencies ... \u001b[?25l-\b \b\\\b \b|\b \b/\b \b-\b \bdone\r\n",
      "\u001b[?25h  Getting requirements to build wheel ... \u001b[?25l-\b \bdone\r\n",
      "\u001b[?25h  Preparing metadata (pyproject.toml) ... \u001b[?25l-\b \bdone\r\n",
      "\u001b[?25hRequirement already satisfied: beautifulsoup4>=4.11.1 in /opt/conda/lib/python3.10/site-packages (from yfinance) (4.12.2)\r\n",
      "Requirement already satisfied: html5lib>=1.1 in /opt/conda/lib/python3.10/site-packages (from yfinance) (1.1)\r\n",
      "Requirement already satisfied: soupsieve>1.2 in /opt/conda/lib/python3.10/site-packages (from beautifulsoup4>=4.11.1->yfinance) (2.3.2.post1)\r\n",
      "Requirement already satisfied: six>=1.9 in /opt/conda/lib/python3.10/site-packages (from html5lib>=1.1->yfinance) (1.16.0)\r\n",
      "Requirement already satisfied: webencodings in /opt/conda/lib/python3.10/site-packages (from html5lib>=1.1->yfinance) (0.5.1)\r\n",
      "Requirement already satisfied: python-dateutil>=2.8.2 in /opt/conda/lib/python3.10/site-packages (from pandas>=1.3.0->yfinance) (2.8.2)\r\n",
      "Requirement already satisfied: tzdata>=2022.1 in /opt/conda/lib/python3.10/site-packages (from pandas>=1.3.0->yfinance) (2023.3)\r\n",
      "Requirement already satisfied: charset-normalizer<4,>=2 in /opt/conda/lib/python3.10/site-packages (from requests>=2.31->yfinance) (3.2.0)\r\n",
      "Requirement already satisfied: idna<4,>=2.5 in /opt/conda/lib/python3.10/site-packages (from requests>=2.31->yfinance) (3.4)\r\n",
      "Requirement already satisfied: urllib3<3,>=1.21.1 in /opt/conda/lib/python3.10/site-packages (from requests>=2.31->yfinance) (1.26.15)\r\n",
      "Requirement already satisfied: certifi>=2017.4.17 in /opt/conda/lib/python3.10/site-packages (from requests>=2.31->yfinance) (2023.11.17)\r\n",
      "Downloading yfinance-0.2.33-py2.py3-none-any.whl (69 kB)\r\n",
      "\u001b[2K   \u001b[90m━━━━━━━━━━━━━━━━━━━━━━━━━━━━━━━━━━━━━━━━\u001b[0m \u001b[32m69.0/69.0 kB\u001b[0m \u001b[31m5.6 MB/s\u001b[0m eta \u001b[36m0:00:00\u001b[0m\r\n",
      "\u001b[?25hBuilding wheels for collected packages: peewee\r\n",
      "  Building wheel for peewee (pyproject.toml) ... \u001b[?25l-\b \b\\\b \b|\b \b/\b \bdone\r\n",
      "\u001b[?25h  Created wheel for peewee: filename=peewee-3.17.0-cp310-cp310-linux_x86_64.whl size=290465 sha256=b1c51355eee64099458d80fa9be4ef9359626abff3a72062ca7ded739360a13c\r\n",
      "  Stored in directory: /root/.cache/pip/wheels/c7/70/ad/212867e96e7004265a69c4aa5dcff00a95f547a67ba26e7e76\r\n",
      "Successfully built peewee\r\n",
      "Installing collected packages: peewee, multitasking, yfinance\r\n",
      "Successfully installed multitasking-0.0.11 peewee-3.17.0 yfinance-0.2.33\r\n",
      "Note: you may need to restart the kernel to use updated packages.\n"
     ]
    }
   ],
   "source": [
    "pip install yfinance"
   ]
  },
  {
   "cell_type": "code",
   "execution_count": 3,
   "id": "da56c436",
   "metadata": {
    "execution": {
     "iopub.execute_input": "2024-01-05T11:01:01.810873Z",
     "iopub.status.busy": "2024-01-05T11:01:01.810409Z",
     "iopub.status.idle": "2024-01-05T11:01:02.185844Z",
     "shell.execute_reply": "2024-01-05T11:01:02.184574Z"
    },
    "papermill": {
     "duration": 0.394361,
     "end_time": "2024-01-05T11:01:02.188814",
     "exception": false,
     "start_time": "2024-01-05T11:01:01.794453",
     "status": "completed"
    },
    "tags": []
   },
   "outputs": [],
   "source": [
    "import yfinance as yf"
   ]
  },
  {
   "cell_type": "code",
   "execution_count": 4,
   "id": "af3f3a12",
   "metadata": {
    "execution": {
     "iopub.execute_input": "2024-01-05T11:01:02.219029Z",
     "iopub.status.busy": "2024-01-05T11:01:02.218342Z",
     "iopub.status.idle": "2024-01-05T11:01:02.224575Z",
     "shell.execute_reply": "2024-01-05T11:01:02.223424Z"
    },
    "papermill": {
     "duration": 0.023892,
     "end_time": "2024-01-05T11:01:02.227183",
     "exception": false,
     "start_time": "2024-01-05T11:01:02.203291",
     "status": "completed"
    },
    "tags": []
   },
   "outputs": [],
   "source": [
    "##Getting the data\n",
    "\n",
    "ftse100 = yf.Ticker(\"^FTSE\")"
   ]
  },
  {
   "cell_type": "code",
   "execution_count": 5,
   "id": "0d43b4c3",
   "metadata": {
    "execution": {
     "iopub.execute_input": "2024-01-05T11:01:02.257220Z",
     "iopub.status.busy": "2024-01-05T11:01:02.256758Z",
     "iopub.status.idle": "2024-01-05T11:01:18.331106Z",
     "shell.execute_reply": "2024-01-05T11:01:18.329706Z"
    },
    "papermill": {
     "duration": 16.092894,
     "end_time": "2024-01-05T11:01:18.334284",
     "exception": false,
     "start_time": "2024-01-05T11:01:02.241390",
     "status": "completed"
    },
    "tags": []
   },
   "outputs": [],
   "source": [
    "ftse100 = ftse100.history(period=\"max\")"
   ]
  },
  {
   "cell_type": "code",
   "execution_count": 6,
   "id": "a355696d",
   "metadata": {
    "execution": {
     "iopub.execute_input": "2024-01-05T11:01:18.370055Z",
     "iopub.status.busy": "2024-01-05T11:01:18.369385Z",
     "iopub.status.idle": "2024-01-05T11:01:18.407365Z",
     "shell.execute_reply": "2024-01-05T11:01:18.405716Z"
    },
    "papermill": {
     "duration": 0.064149,
     "end_time": "2024-01-05T11:01:18.412321",
     "exception": false,
     "start_time": "2024-01-05T11:01:18.348172",
     "status": "completed"
    },
    "tags": []
   },
   "outputs": [
    {
     "data": {
      "text/html": [
       "<div>\n",
       "<style scoped>\n",
       "    .dataframe tbody tr th:only-of-type {\n",
       "        vertical-align: middle;\n",
       "    }\n",
       "\n",
       "    .dataframe tbody tr th {\n",
       "        vertical-align: top;\n",
       "    }\n",
       "\n",
       "    .dataframe thead th {\n",
       "        text-align: right;\n",
       "    }\n",
       "</style>\n",
       "<table border=\"1\" class=\"dataframe\">\n",
       "  <thead>\n",
       "    <tr style=\"text-align: right;\">\n",
       "      <th></th>\n",
       "      <th>Open</th>\n",
       "      <th>High</th>\n",
       "      <th>Low</th>\n",
       "      <th>Close</th>\n",
       "      <th>Volume</th>\n",
       "      <th>Dividends</th>\n",
       "      <th>Stock Splits</th>\n",
       "    </tr>\n",
       "    <tr>\n",
       "      <th>Date</th>\n",
       "      <th></th>\n",
       "      <th></th>\n",
       "      <th></th>\n",
       "      <th></th>\n",
       "      <th></th>\n",
       "      <th></th>\n",
       "      <th></th>\n",
       "    </tr>\n",
       "  </thead>\n",
       "  <tbody>\n",
       "    <tr>\n",
       "      <th>1984-01-03 00:00:00+00:00</th>\n",
       "      <td>997.500000</td>\n",
       "      <td>1001.400024</td>\n",
       "      <td>997.500000</td>\n",
       "      <td>997.500000</td>\n",
       "      <td>0</td>\n",
       "      <td>0.0</td>\n",
       "      <td>0.0</td>\n",
       "    </tr>\n",
       "    <tr>\n",
       "      <th>1984-01-04 00:00:00+00:00</th>\n",
       "      <td>997.500000</td>\n",
       "      <td>999.500000</td>\n",
       "      <td>993.299988</td>\n",
       "      <td>998.599976</td>\n",
       "      <td>0</td>\n",
       "      <td>0.0</td>\n",
       "      <td>0.0</td>\n",
       "    </tr>\n",
       "    <tr>\n",
       "      <th>1984-01-05 00:00:00+00:00</th>\n",
       "      <td>1007.099976</td>\n",
       "      <td>1015.799988</td>\n",
       "      <td>1007.099976</td>\n",
       "      <td>1015.799988</td>\n",
       "      <td>0</td>\n",
       "      <td>0.0</td>\n",
       "      <td>0.0</td>\n",
       "    </tr>\n",
       "    <tr>\n",
       "      <th>1984-01-06 00:00:00+00:00</th>\n",
       "      <td>1019.000000</td>\n",
       "      <td>1029.300049</td>\n",
       "      <td>1019.000000</td>\n",
       "      <td>1029.000000</td>\n",
       "      <td>0</td>\n",
       "      <td>0.0</td>\n",
       "      <td>0.0</td>\n",
       "    </tr>\n",
       "    <tr>\n",
       "      <th>1984-01-09 00:00:00+00:00</th>\n",
       "      <td>1030.599976</td>\n",
       "      <td>1035.400024</td>\n",
       "      <td>1030.599976</td>\n",
       "      <td>1034.599976</td>\n",
       "      <td>0</td>\n",
       "      <td>0.0</td>\n",
       "      <td>0.0</td>\n",
       "    </tr>\n",
       "    <tr>\n",
       "      <th>...</th>\n",
       "      <td>...</td>\n",
       "      <td>...</td>\n",
       "      <td>...</td>\n",
       "      <td>...</td>\n",
       "      <td>...</td>\n",
       "      <td>...</td>\n",
       "      <td>...</td>\n",
       "    </tr>\n",
       "    <tr>\n",
       "      <th>2023-12-29 00:00:00+00:00</th>\n",
       "      <td>7722.700195</td>\n",
       "      <td>7746.899902</td>\n",
       "      <td>7719.000000</td>\n",
       "      <td>7733.200195</td>\n",
       "      <td>235460600</td>\n",
       "      <td>0.0</td>\n",
       "      <td>0.0</td>\n",
       "    </tr>\n",
       "    <tr>\n",
       "      <th>2024-01-02 00:00:00+00:00</th>\n",
       "      <td>7733.200195</td>\n",
       "      <td>7764.399902</td>\n",
       "      <td>7689.000000</td>\n",
       "      <td>7721.500000</td>\n",
       "      <td>678041300</td>\n",
       "      <td>0.0</td>\n",
       "      <td>0.0</td>\n",
       "    </tr>\n",
       "    <tr>\n",
       "      <th>2024-01-03 00:00:00+00:00</th>\n",
       "      <td>7721.500000</td>\n",
       "      <td>7744.600098</td>\n",
       "      <td>7650.299805</td>\n",
       "      <td>7682.299805</td>\n",
       "      <td>857615300</td>\n",
       "      <td>0.0</td>\n",
       "      <td>0.0</td>\n",
       "    </tr>\n",
       "    <tr>\n",
       "      <th>2024-01-04 00:00:00+00:00</th>\n",
       "      <td>7682.299805</td>\n",
       "      <td>7728.200195</td>\n",
       "      <td>7678.799805</td>\n",
       "      <td>7723.100098</td>\n",
       "      <td>963235800</td>\n",
       "      <td>0.0</td>\n",
       "      <td>0.0</td>\n",
       "    </tr>\n",
       "    <tr>\n",
       "      <th>2024-01-05 00:00:00+00:00</th>\n",
       "      <td>7723.069824</td>\n",
       "      <td>7723.069824</td>\n",
       "      <td>7647.319824</td>\n",
       "      <td>7647.319824</td>\n",
       "      <td>0</td>\n",
       "      <td>0.0</td>\n",
       "      <td>0.0</td>\n",
       "    </tr>\n",
       "  </tbody>\n",
       "</table>\n",
       "<p>10106 rows × 7 columns</p>\n",
       "</div>"
      ],
      "text/plain": [
       "                                  Open         High          Low        Close  \\\n",
       "Date                                                                            \n",
       "1984-01-03 00:00:00+00:00   997.500000  1001.400024   997.500000   997.500000   \n",
       "1984-01-04 00:00:00+00:00   997.500000   999.500000   993.299988   998.599976   \n",
       "1984-01-05 00:00:00+00:00  1007.099976  1015.799988  1007.099976  1015.799988   \n",
       "1984-01-06 00:00:00+00:00  1019.000000  1029.300049  1019.000000  1029.000000   \n",
       "1984-01-09 00:00:00+00:00  1030.599976  1035.400024  1030.599976  1034.599976   \n",
       "...                                ...          ...          ...          ...   \n",
       "2023-12-29 00:00:00+00:00  7722.700195  7746.899902  7719.000000  7733.200195   \n",
       "2024-01-02 00:00:00+00:00  7733.200195  7764.399902  7689.000000  7721.500000   \n",
       "2024-01-03 00:00:00+00:00  7721.500000  7744.600098  7650.299805  7682.299805   \n",
       "2024-01-04 00:00:00+00:00  7682.299805  7728.200195  7678.799805  7723.100098   \n",
       "2024-01-05 00:00:00+00:00  7723.069824  7723.069824  7647.319824  7647.319824   \n",
       "\n",
       "                              Volume  Dividends  Stock Splits  \n",
       "Date                                                           \n",
       "1984-01-03 00:00:00+00:00          0        0.0           0.0  \n",
       "1984-01-04 00:00:00+00:00          0        0.0           0.0  \n",
       "1984-01-05 00:00:00+00:00          0        0.0           0.0  \n",
       "1984-01-06 00:00:00+00:00          0        0.0           0.0  \n",
       "1984-01-09 00:00:00+00:00          0        0.0           0.0  \n",
       "...                              ...        ...           ...  \n",
       "2023-12-29 00:00:00+00:00  235460600        0.0           0.0  \n",
       "2024-01-02 00:00:00+00:00  678041300        0.0           0.0  \n",
       "2024-01-03 00:00:00+00:00  857615300        0.0           0.0  \n",
       "2024-01-04 00:00:00+00:00  963235800        0.0           0.0  \n",
       "2024-01-05 00:00:00+00:00          0        0.0           0.0  \n",
       "\n",
       "[10106 rows x 7 columns]"
      ]
     },
     "execution_count": 6,
     "metadata": {},
     "output_type": "execute_result"
    }
   ],
   "source": [
    "ftse100"
   ]
  },
  {
   "cell_type": "code",
   "execution_count": 7,
   "id": "195a6cee",
   "metadata": {
    "execution": {
     "iopub.execute_input": "2024-01-05T11:01:18.454894Z",
     "iopub.status.busy": "2024-01-05T11:01:18.453706Z",
     "iopub.status.idle": "2024-01-05T11:01:18.461766Z",
     "shell.execute_reply": "2024-01-05T11:01:18.460702Z"
    },
    "papermill": {
     "duration": 0.031372,
     "end_time": "2024-01-05T11:01:18.465373",
     "exception": false,
     "start_time": "2024-01-05T11:01:18.434001",
     "status": "completed"
    },
    "tags": []
   },
   "outputs": [
    {
     "data": {
      "text/plain": [
       "DatetimeIndex(['1984-01-03 00:00:00+00:00', '1984-01-04 00:00:00+00:00',\n",
       "               '1984-01-05 00:00:00+00:00', '1984-01-06 00:00:00+00:00',\n",
       "               '1984-01-09 00:00:00+00:00', '1984-01-10 00:00:00+00:00',\n",
       "               '1984-01-11 00:00:00+00:00', '1984-01-12 00:00:00+00:00',\n",
       "               '1984-01-13 00:00:00+00:00', '1984-01-16 00:00:00+00:00',\n",
       "               ...\n",
       "               '2023-12-20 00:00:00+00:00', '2023-12-21 00:00:00+00:00',\n",
       "               '2023-12-22 00:00:00+00:00', '2023-12-27 00:00:00+00:00',\n",
       "               '2023-12-28 00:00:00+00:00', '2023-12-29 00:00:00+00:00',\n",
       "               '2024-01-02 00:00:00+00:00', '2024-01-03 00:00:00+00:00',\n",
       "               '2024-01-04 00:00:00+00:00', '2024-01-05 00:00:00+00:00'],\n",
       "              dtype='datetime64[ns, Europe/London]', name='Date', length=10106, freq=None)"
      ]
     },
     "execution_count": 7,
     "metadata": {},
     "output_type": "execute_result"
    }
   ],
   "source": [
    "ftse100.index"
   ]
  },
  {
   "cell_type": "code",
   "execution_count": 8,
   "id": "5f78c4d7",
   "metadata": {
    "execution": {
     "iopub.execute_input": "2024-01-05T11:01:18.497636Z",
     "iopub.status.busy": "2024-01-05T11:01:18.496837Z",
     "iopub.status.idle": "2024-01-05T11:01:19.468565Z",
     "shell.execute_reply": "2024-01-05T11:01:19.466477Z"
    },
    "papermill": {
     "duration": 0.991539,
     "end_time": "2024-01-05T11:01:19.471912",
     "exception": false,
     "start_time": "2024-01-05T11:01:18.480373",
     "status": "completed"
    },
    "tags": []
   },
   "outputs": [
    {
     "data": {
      "text/plain": [
       "<Axes: xlabel='Date'>"
      ]
     },
     "execution_count": 8,
     "metadata": {},
     "output_type": "execute_result"
    },
    {
     "data": {
      "image/png": "[encoded data removed]",
      "text/plain": [
       "<Figure size 640x480 with 1 Axes>"
      ]
     },
     "metadata": {},
     "output_type": "display_data"
    }
   ],
   "source": [
    "# Cleaning and visualizing our data\n",
    "\n",
    "ftse100.plot.line(y=\"Close\", use_index=True)"
   ]
  },
  {
   "cell_type": "code",
   "execution_count": 9,
   "id": "6ff358ad",
   "metadata": {
    "execution": {
     "iopub.execute_input": "2024-01-05T11:01:19.507228Z",
     "iopub.status.busy": "2024-01-05T11:01:19.506504Z",
     "iopub.status.idle": "2024-01-05T11:01:19.512334Z",
     "shell.execute_reply": "2024-01-05T11:01:19.511295Z"
    },
    "papermill": {
     "duration": 0.027053,
     "end_time": "2024-01-05T11:01:19.514969",
     "exception": false,
     "start_time": "2024-01-05T11:01:19.487916",
     "status": "completed"
    },
    "tags": []
   },
   "outputs": [],
   "source": [
    "# Deleting the extra columns\n",
    "del ftse100[\"Dividends\"] \n",
    "del ftse100[\"Stock Splits\"]"
   ]
  },
  {
   "cell_type": "code",
   "execution_count": 10,
   "id": "b8a8ad7a",
   "metadata": {
    "execution": {
     "iopub.execute_input": "2024-01-05T11:01:19.548188Z",
     "iopub.status.busy": "2024-01-05T11:01:19.547301Z",
     "iopub.status.idle": "2024-01-05T11:01:19.565764Z",
     "shell.execute_reply": "2024-01-05T11:01:19.564903Z"
    },
    "papermill": {
     "duration": 0.037133,
     "end_time": "2024-01-05T11:01:19.568141",
     "exception": false,
     "start_time": "2024-01-05T11:01:19.531008",
     "status": "completed"
    },
    "tags": []
   },
   "outputs": [
    {
     "data": {
      "text/html": [
       "<div>\n",
       "<style scoped>\n",
       "    .dataframe tbody tr th:only-of-type {\n",
       "        vertical-align: middle;\n",
       "    }\n",
       "\n",
       "    .dataframe tbody tr th {\n",
       "        vertical-align: top;\n",
       "    }\n",
       "\n",
       "    .dataframe thead th {\n",
       "        text-align: right;\n",
       "    }\n",
       "</style>\n",
       "<table border=\"1\" class=\"dataframe\">\n",
       "  <thead>\n",
       "    <tr style=\"text-align: right;\">\n",
       "      <th></th>\n",
       "      <th>Open</th>\n",
       "      <th>High</th>\n",
       "      <th>Low</th>\n",
       "      <th>Close</th>\n",
       "      <th>Volume</th>\n",
       "      <th>Tomorrow</th>\n",
       "    </tr>\n",
       "    <tr>\n",
       "      <th>Date</th>\n",
       "      <th></th>\n",
       "      <th></th>\n",
       "      <th></th>\n",
       "      <th></th>\n",
       "      <th></th>\n",
       "      <th></th>\n",
       "    </tr>\n",
       "  </thead>\n",
       "  <tbody>\n",
       "    <tr>\n",
       "      <th>1984-01-03 00:00:00+00:00</th>\n",
       "      <td>997.500000</td>\n",
       "      <td>1001.400024</td>\n",
       "      <td>997.500000</td>\n",
       "      <td>997.500000</td>\n",
       "      <td>0</td>\n",
       "      <td>998.599976</td>\n",
       "    </tr>\n",
       "    <tr>\n",
       "      <th>1984-01-04 00:00:00+00:00</th>\n",
       "      <td>997.500000</td>\n",
       "      <td>999.500000</td>\n",
       "      <td>993.299988</td>\n",
       "      <td>998.599976</td>\n",
       "      <td>0</td>\n",
       "      <td>1015.799988</td>\n",
       "    </tr>\n",
       "    <tr>\n",
       "      <th>1984-01-05 00:00:00+00:00</th>\n",
       "      <td>1007.099976</td>\n",
       "      <td>1015.799988</td>\n",
       "      <td>1007.099976</td>\n",
       "      <td>1015.799988</td>\n",
       "      <td>0</td>\n",
       "      <td>1029.000000</td>\n",
       "    </tr>\n",
       "    <tr>\n",
       "      <th>1984-01-06 00:00:00+00:00</th>\n",
       "      <td>1019.000000</td>\n",
       "      <td>1029.300049</td>\n",
       "      <td>1019.000000</td>\n",
       "      <td>1029.000000</td>\n",
       "      <td>0</td>\n",
       "      <td>1034.599976</td>\n",
       "    </tr>\n",
       "    <tr>\n",
       "      <th>1984-01-09 00:00:00+00:00</th>\n",
       "      <td>1030.599976</td>\n",
       "      <td>1035.400024</td>\n",
       "      <td>1030.599976</td>\n",
       "      <td>1034.599976</td>\n",
       "      <td>0</td>\n",
       "      <td>1034.300049</td>\n",
       "    </tr>\n",
       "    <tr>\n",
       "      <th>...</th>\n",
       "      <td>...</td>\n",
       "      <td>...</td>\n",
       "      <td>...</td>\n",
       "      <td>...</td>\n",
       "      <td>...</td>\n",
       "      <td>...</td>\n",
       "    </tr>\n",
       "    <tr>\n",
       "      <th>2023-12-29 00:00:00+00:00</th>\n",
       "      <td>7722.700195</td>\n",
       "      <td>7746.899902</td>\n",
       "      <td>7719.000000</td>\n",
       "      <td>7733.200195</td>\n",
       "      <td>235460600</td>\n",
       "      <td>7721.500000</td>\n",
       "    </tr>\n",
       "    <tr>\n",
       "      <th>2024-01-02 00:00:00+00:00</th>\n",
       "      <td>7733.200195</td>\n",
       "      <td>7764.399902</td>\n",
       "      <td>7689.000000</td>\n",
       "      <td>7721.500000</td>\n",
       "      <td>678041300</td>\n",
       "      <td>7682.299805</td>\n",
       "    </tr>\n",
       "    <tr>\n",
       "      <th>2024-01-03 00:00:00+00:00</th>\n",
       "      <td>7721.500000</td>\n",
       "      <td>7744.600098</td>\n",
       "      <td>7650.299805</td>\n",
       "      <td>7682.299805</td>\n",
       "      <td>857615300</td>\n",
       "      <td>7723.100098</td>\n",
       "    </tr>\n",
       "    <tr>\n",
       "      <th>2024-01-04 00:00:00+00:00</th>\n",
       "      <td>7682.299805</td>\n",
       "      <td>7728.200195</td>\n",
       "      <td>7678.799805</td>\n",
       "      <td>7723.100098</td>\n",
       "      <td>963235800</td>\n",
       "      <td>7647.319824</td>\n",
       "    </tr>\n",
       "    <tr>\n",
       "      <th>2024-01-05 00:00:00+00:00</th>\n",
       "      <td>7723.069824</td>\n",
       "      <td>7723.069824</td>\n",
       "      <td>7647.319824</td>\n",
       "      <td>7647.319824</td>\n",
       "      <td>0</td>\n",
       "      <td>NaN</td>\n",
       "    </tr>\n",
       "  </tbody>\n",
       "</table>\n",
       "<p>10106 rows × 6 columns</p>\n",
       "</div>"
      ],
      "text/plain": [
       "                                  Open         High          Low        Close  \\\n",
       "Date                                                                            \n",
       "1984-01-03 00:00:00+00:00   997.500000  1001.400024   997.500000   997.500000   \n",
       "1984-01-04 00:00:00+00:00   997.500000   999.500000   993.299988   998.599976   \n",
       "1984-01-05 00:00:00+00:00  1007.099976  1015.799988  1007.099976  1015.799988   \n",
       "1984-01-06 00:00:00+00:00  1019.000000  1029.300049  1019.000000  1029.000000   \n",
       "1984-01-09 00:00:00+00:00  1030.599976  1035.400024  1030.599976  1034.599976   \n",
       "...                                ...          ...          ...          ...   \n",
       "2023-12-29 00:00:00+00:00  7722.700195  7746.899902  7719.000000  7733.200195   \n",
       "2024-01-02 00:00:00+00:00  7733.200195  7764.399902  7689.000000  7721.500000   \n",
       "2024-01-03 00:00:00+00:00  7721.500000  7744.600098  7650.299805  7682.299805   \n",
       "2024-01-04 00:00:00+00:00  7682.299805  7728.200195  7678.799805  7723.100098   \n",
       "2024-01-05 00:00:00+00:00  7723.069824  7723.069824  7647.319824  7647.319824   \n",
       "\n",
       "                              Volume     Tomorrow  \n",
       "Date                                               \n",
       "1984-01-03 00:00:00+00:00          0   998.599976  \n",
       "1984-01-04 00:00:00+00:00          0  1015.799988  \n",
       "1984-01-05 00:00:00+00:00          0  1029.000000  \n",
       "1984-01-06 00:00:00+00:00          0  1034.599976  \n",
       "1984-01-09 00:00:00+00:00          0  1034.300049  \n",
       "...                              ...          ...  \n",
       "2023-12-29 00:00:00+00:00  235460600  7721.500000  \n",
       "2024-01-02 00:00:00+00:00  678041300  7682.299805  \n",
       "2024-01-03 00:00:00+00:00  857615300  7723.100098  \n",
       "2024-01-04 00:00:00+00:00  963235800  7647.319824  \n",
       "2024-01-05 00:00:00+00:00          0          NaN  \n",
       "\n",
       "[10106 rows x 6 columns]"
      ]
     },
     "execution_count": 10,
     "metadata": {},
     "output_type": "execute_result"
    }
   ],
   "source": [
    "## Setting up our target for machine learning\n",
    "\n",
    "ftse100['Tomorrow'] = ftse100['Close'].shift(-1)\n",
    "ftse100"
   ]
  },
  {
   "cell_type": "code",
   "execution_count": 11,
   "id": "c6dd210e",
   "metadata": {
    "execution": {
     "iopub.execute_input": "2024-01-05T11:01:19.601627Z",
     "iopub.status.busy": "2024-01-05T11:01:19.600980Z",
     "iopub.status.idle": "2024-01-05T11:01:19.621295Z",
     "shell.execute_reply": "2024-01-05T11:01:19.619985Z"
    },
    "papermill": {
     "duration": 0.040225,
     "end_time": "2024-01-05T11:01:19.624158",
     "exception": false,
     "start_time": "2024-01-05T11:01:19.583933",
     "status": "completed"
    },
    "tags": []
   },
   "outputs": [
    {
     "data": {
      "text/html": [
       "<div>\n",
       "<style scoped>\n",
       "    .dataframe tbody tr th:only-of-type {\n",
       "        vertical-align: middle;\n",
       "    }\n",
       "\n",
       "    .dataframe tbody tr th {\n",
       "        vertical-align: top;\n",
       "    }\n",
       "\n",
       "    .dataframe thead th {\n",
       "        text-align: right;\n",
       "    }\n",
       "</style>\n",
       "<table border=\"1\" class=\"dataframe\">\n",
       "  <thead>\n",
       "    <tr style=\"text-align: right;\">\n",
       "      <th></th>\n",
       "      <th>Open</th>\n",
       "      <th>High</th>\n",
       "      <th>Low</th>\n",
       "      <th>Close</th>\n",
       "      <th>Volume</th>\n",
       "      <th>Tomorrow</th>\n",
       "      <th>Target</th>\n",
       "    </tr>\n",
       "    <tr>\n",
       "      <th>Date</th>\n",
       "      <th></th>\n",
       "      <th></th>\n",
       "      <th></th>\n",
       "      <th></th>\n",
       "      <th></th>\n",
       "      <th></th>\n",
       "      <th></th>\n",
       "    </tr>\n",
       "  </thead>\n",
       "  <tbody>\n",
       "    <tr>\n",
       "      <th>1984-01-03 00:00:00+00:00</th>\n",
       "      <td>997.500000</td>\n",
       "      <td>1001.400024</td>\n",
       "      <td>997.500000</td>\n",
       "      <td>997.500000</td>\n",
       "      <td>0</td>\n",
       "      <td>998.599976</td>\n",
       "      <td>1</td>\n",
       "    </tr>\n",
       "    <tr>\n",
       "      <th>1984-01-04 00:00:00+00:00</th>\n",
       "      <td>997.500000</td>\n",
       "      <td>999.500000</td>\n",
       "      <td>993.299988</td>\n",
       "      <td>998.599976</td>\n",
       "      <td>0</td>\n",
       "      <td>1015.799988</td>\n",
       "      <td>1</td>\n",
       "    </tr>\n",
       "    <tr>\n",
       "      <th>1984-01-05 00:00:00+00:00</th>\n",
       "      <td>1007.099976</td>\n",
       "      <td>1015.799988</td>\n",
       "      <td>1007.099976</td>\n",
       "      <td>1015.799988</td>\n",
       "      <td>0</td>\n",
       "      <td>1029.000000</td>\n",
       "      <td>1</td>\n",
       "    </tr>\n",
       "    <tr>\n",
       "      <th>1984-01-06 00:00:00+00:00</th>\n",
       "      <td>1019.000000</td>\n",
       "      <td>1029.300049</td>\n",
       "      <td>1019.000000</td>\n",
       "      <td>1029.000000</td>\n",
       "      <td>0</td>\n",
       "      <td>1034.599976</td>\n",
       "      <td>1</td>\n",
       "    </tr>\n",
       "    <tr>\n",
       "      <th>1984-01-09 00:00:00+00:00</th>\n",
       "      <td>1030.599976</td>\n",
       "      <td>1035.400024</td>\n",
       "      <td>1030.599976</td>\n",
       "      <td>1034.599976</td>\n",
       "      <td>0</td>\n",
       "      <td>1034.300049</td>\n",
       "      <td>0</td>\n",
       "    </tr>\n",
       "    <tr>\n",
       "      <th>...</th>\n",
       "      <td>...</td>\n",
       "      <td>...</td>\n",
       "      <td>...</td>\n",
       "      <td>...</td>\n",
       "      <td>...</td>\n",
       "      <td>...</td>\n",
       "      <td>...</td>\n",
       "    </tr>\n",
       "    <tr>\n",
       "      <th>2023-12-29 00:00:00+00:00</th>\n",
       "      <td>7722.700195</td>\n",
       "      <td>7746.899902</td>\n",
       "      <td>7719.000000</td>\n",
       "      <td>7733.200195</td>\n",
       "      <td>235460600</td>\n",
       "      <td>7721.500000</td>\n",
       "      <td>0</td>\n",
       "    </tr>\n",
       "    <tr>\n",
       "      <th>2024-01-02 00:00:00+00:00</th>\n",
       "      <td>7733.200195</td>\n",
       "      <td>7764.399902</td>\n",
       "      <td>7689.000000</td>\n",
       "      <td>7721.500000</td>\n",
       "      <td>678041300</td>\n",
       "      <td>7682.299805</td>\n",
       "      <td>0</td>\n",
       "    </tr>\n",
       "    <tr>\n",
       "      <th>2024-01-03 00:00:00+00:00</th>\n",
       "      <td>7721.500000</td>\n",
       "      <td>7744.600098</td>\n",
       "      <td>7650.299805</td>\n",
       "      <td>7682.299805</td>\n",
       "      <td>857615300</td>\n",
       "      <td>7723.100098</td>\n",
       "      <td>1</td>\n",
       "    </tr>\n",
       "    <tr>\n",
       "      <th>2024-01-04 00:00:00+00:00</th>\n",
       "      <td>7682.299805</td>\n",
       "      <td>7728.200195</td>\n",
       "      <td>7678.799805</td>\n",
       "      <td>7723.100098</td>\n",
       "      <td>963235800</td>\n",
       "      <td>7647.319824</td>\n",
       "      <td>0</td>\n",
       "    </tr>\n",
       "    <tr>\n",
       "      <th>2024-01-05 00:00:00+00:00</th>\n",
       "      <td>7723.069824</td>\n",
       "      <td>7723.069824</td>\n",
       "      <td>7647.319824</td>\n",
       "      <td>7647.319824</td>\n",
       "      <td>0</td>\n",
       "      <td>NaN</td>\n",
       "      <td>0</td>\n",
       "    </tr>\n",
       "  </tbody>\n",
       "</table>\n",
       "<p>10106 rows × 7 columns</p>\n",
       "</div>"
      ],
      "text/plain": [
       "                                  Open         High          Low        Close  \\\n",
       "Date                                                                            \n",
       "1984-01-03 00:00:00+00:00   997.500000  1001.400024   997.500000   997.500000   \n",
       "1984-01-04 00:00:00+00:00   997.500000   999.500000   993.299988   998.599976   \n",
       "1984-01-05 00:00:00+00:00  1007.099976  1015.799988  1007.099976  1015.799988   \n",
       "1984-01-06 00:00:00+00:00  1019.000000  1029.300049  1019.000000  1029.000000   \n",
       "1984-01-09 00:00:00+00:00  1030.599976  1035.400024  1030.599976  1034.599976   \n",
       "...                                ...          ...          ...          ...   \n",
       "2023-12-29 00:00:00+00:00  7722.700195  7746.899902  7719.000000  7733.200195   \n",
       "2024-01-02 00:00:00+00:00  7733.200195  7764.399902  7689.000000  7721.500000   \n",
       "2024-01-03 00:00:00+00:00  7721.500000  7744.600098  7650.299805  7682.299805   \n",
       "2024-01-04 00:00:00+00:00  7682.299805  7728.200195  7678.799805  7723.100098   \n",
       "2024-01-05 00:00:00+00:00  7723.069824  7723.069824  7647.319824  7647.319824   \n",
       "\n",
       "                              Volume     Tomorrow  Target  \n",
       "Date                                                       \n",
       "1984-01-03 00:00:00+00:00          0   998.599976       1  \n",
       "1984-01-04 00:00:00+00:00          0  1015.799988       1  \n",
       "1984-01-05 00:00:00+00:00          0  1029.000000       1  \n",
       "1984-01-06 00:00:00+00:00          0  1034.599976       1  \n",
       "1984-01-09 00:00:00+00:00          0  1034.300049       0  \n",
       "...                              ...          ...     ...  \n",
       "2023-12-29 00:00:00+00:00  235460600  7721.500000       0  \n",
       "2024-01-02 00:00:00+00:00  678041300  7682.299805       0  \n",
       "2024-01-03 00:00:00+00:00  857615300  7723.100098       1  \n",
       "2024-01-04 00:00:00+00:00  963235800  7647.319824       0  \n",
       "2024-01-05 00:00:00+00:00          0          NaN       0  \n",
       "\n",
       "[10106 rows x 7 columns]"
      ]
     },
     "execution_count": 11,
     "metadata": {},
     "output_type": "execute_result"
    }
   ],
   "source": [
    "ftse100['Target'] = (ftse100['Tomorrow'] > ftse100['Close']).astype(int)\n",
    "ftse100"
   ]
  },
  {
   "cell_type": "markdown",
   "id": "9b4e7592",
   "metadata": {
    "papermill": {
     "duration": 0.015805,
     "end_time": "2024-01-05T11:01:19.657000",
     "exception": false,
     "start_time": "2024-01-05T11:01:19.641195",
     "status": "completed"
    },
    "tags": []
   },
   "source": [
    "Here, '1' indicates price up and '0' price down in the 'Target' column."
   ]
  },
  {
   "cell_type": "code",
   "execution_count": 12,
   "id": "4190468a",
   "metadata": {
    "execution": {
     "iopub.execute_input": "2024-01-05T11:01:19.690907Z",
     "iopub.status.busy": "2024-01-05T11:01:19.690096Z",
     "iopub.status.idle": "2024-01-05T11:01:19.715153Z",
     "shell.execute_reply": "2024-01-05T11:01:19.713799Z"
    },
    "papermill": {
     "duration": 0.045563,
     "end_time": "2024-01-05T11:01:19.718432",
     "exception": false,
     "start_time": "2024-01-05T11:01:19.672869",
     "status": "completed"
    },
    "tags": []
   },
   "outputs": [
    {
     "data": {
      "text/html": [
       "<div>\n",
       "<style scoped>\n",
       "    .dataframe tbody tr th:only-of-type {\n",
       "        vertical-align: middle;\n",
       "    }\n",
       "\n",
       "    .dataframe tbody tr th {\n",
       "        vertical-align: top;\n",
       "    }\n",
       "\n",
       "    .dataframe thead th {\n",
       "        text-align: right;\n",
       "    }\n",
       "</style>\n",
       "<table border=\"1\" class=\"dataframe\">\n",
       "  <thead>\n",
       "    <tr style=\"text-align: right;\">\n",
       "      <th></th>\n",
       "      <th>Open</th>\n",
       "      <th>High</th>\n",
       "      <th>Low</th>\n",
       "      <th>Close</th>\n",
       "      <th>Volume</th>\n",
       "      <th>Tomorrow</th>\n",
       "      <th>Target</th>\n",
       "    </tr>\n",
       "    <tr>\n",
       "      <th>Date</th>\n",
       "      <th></th>\n",
       "      <th></th>\n",
       "      <th></th>\n",
       "      <th></th>\n",
       "      <th></th>\n",
       "      <th></th>\n",
       "      <th></th>\n",
       "    </tr>\n",
       "  </thead>\n",
       "  <tbody>\n",
       "    <tr>\n",
       "      <th>1990-01-02 00:00:00+00:00</th>\n",
       "      <td>2425.500000</td>\n",
       "      <td>2443.300049</td>\n",
       "      <td>2425.500000</td>\n",
       "      <td>2434.100098</td>\n",
       "      <td>0</td>\n",
       "      <td>2463.699951</td>\n",
       "      <td>1</td>\n",
       "    </tr>\n",
       "    <tr>\n",
       "      <th>1990-01-03 00:00:00+00:00</th>\n",
       "      <td>2445.800049</td>\n",
       "      <td>2466.199951</td>\n",
       "      <td>2445.800049</td>\n",
       "      <td>2463.699951</td>\n",
       "      <td>0</td>\n",
       "      <td>2451.600098</td>\n",
       "      <td>0</td>\n",
       "    </tr>\n",
       "    <tr>\n",
       "      <th>1990-01-04 00:00:00+00:00</th>\n",
       "      <td>2463.699951</td>\n",
       "      <td>2479.399902</td>\n",
       "      <td>2451.600098</td>\n",
       "      <td>2451.600098</td>\n",
       "      <td>0</td>\n",
       "      <td>2444.500000</td>\n",
       "      <td>0</td>\n",
       "    </tr>\n",
       "    <tr>\n",
       "      <th>1990-01-05 00:00:00+00:00</th>\n",
       "      <td>2448.699951</td>\n",
       "      <td>2448.699951</td>\n",
       "      <td>2436.600098</td>\n",
       "      <td>2444.500000</td>\n",
       "      <td>0</td>\n",
       "      <td>2431.300049</td>\n",
       "      <td>0</td>\n",
       "    </tr>\n",
       "    <tr>\n",
       "      <th>1990-01-08 00:00:00+00:00</th>\n",
       "      <td>2444.500000</td>\n",
       "      <td>2445.600098</td>\n",
       "      <td>2423.800049</td>\n",
       "      <td>2431.300049</td>\n",
       "      <td>0</td>\n",
       "      <td>2436.300049</td>\n",
       "      <td>1</td>\n",
       "    </tr>\n",
       "    <tr>\n",
       "      <th>...</th>\n",
       "      <td>...</td>\n",
       "      <td>...</td>\n",
       "      <td>...</td>\n",
       "      <td>...</td>\n",
       "      <td>...</td>\n",
       "      <td>...</td>\n",
       "      <td>...</td>\n",
       "    </tr>\n",
       "    <tr>\n",
       "      <th>2023-12-29 00:00:00+00:00</th>\n",
       "      <td>7722.700195</td>\n",
       "      <td>7746.899902</td>\n",
       "      <td>7719.000000</td>\n",
       "      <td>7733.200195</td>\n",
       "      <td>235460600</td>\n",
       "      <td>7721.500000</td>\n",
       "      <td>0</td>\n",
       "    </tr>\n",
       "    <tr>\n",
       "      <th>2024-01-02 00:00:00+00:00</th>\n",
       "      <td>7733.200195</td>\n",
       "      <td>7764.399902</td>\n",
       "      <td>7689.000000</td>\n",
       "      <td>7721.500000</td>\n",
       "      <td>678041300</td>\n",
       "      <td>7682.299805</td>\n",
       "      <td>0</td>\n",
       "    </tr>\n",
       "    <tr>\n",
       "      <th>2024-01-03 00:00:00+00:00</th>\n",
       "      <td>7721.500000</td>\n",
       "      <td>7744.600098</td>\n",
       "      <td>7650.299805</td>\n",
       "      <td>7682.299805</td>\n",
       "      <td>857615300</td>\n",
       "      <td>7723.100098</td>\n",
       "      <td>1</td>\n",
       "    </tr>\n",
       "    <tr>\n",
       "      <th>2024-01-04 00:00:00+00:00</th>\n",
       "      <td>7682.299805</td>\n",
       "      <td>7728.200195</td>\n",
       "      <td>7678.799805</td>\n",
       "      <td>7723.100098</td>\n",
       "      <td>963235800</td>\n",
       "      <td>7647.319824</td>\n",
       "      <td>0</td>\n",
       "    </tr>\n",
       "    <tr>\n",
       "      <th>2024-01-05 00:00:00+00:00</th>\n",
       "      <td>7723.069824</td>\n",
       "      <td>7723.069824</td>\n",
       "      <td>7647.319824</td>\n",
       "      <td>7647.319824</td>\n",
       "      <td>0</td>\n",
       "      <td>NaN</td>\n",
       "      <td>0</td>\n",
       "    </tr>\n",
       "  </tbody>\n",
       "</table>\n",
       "<p>8590 rows × 7 columns</p>\n",
       "</div>"
      ],
      "text/plain": [
       "                                  Open         High          Low        Close  \\\n",
       "Date                                                                            \n",
       "1990-01-02 00:00:00+00:00  2425.500000  2443.300049  2425.500000  2434.100098   \n",
       "1990-01-03 00:00:00+00:00  2445.800049  2466.199951  2445.800049  2463.699951   \n",
       "1990-01-04 00:00:00+00:00  2463.699951  2479.399902  2451.600098  2451.600098   \n",
       "1990-01-05 00:00:00+00:00  2448.699951  2448.699951  2436.600098  2444.500000   \n",
       "1990-01-08 00:00:00+00:00  2444.500000  2445.600098  2423.800049  2431.300049   \n",
       "...                                ...          ...          ...          ...   \n",
       "2023-12-29 00:00:00+00:00  7722.700195  7746.899902  7719.000000  7733.200195   \n",
       "2024-01-02 00:00:00+00:00  7733.200195  7764.399902  7689.000000  7721.500000   \n",
       "2024-01-03 00:00:00+00:00  7721.500000  7744.600098  7650.299805  7682.299805   \n",
       "2024-01-04 00:00:00+00:00  7682.299805  7728.200195  7678.799805  7723.100098   \n",
       "2024-01-05 00:00:00+00:00  7723.069824  7723.069824  7647.319824  7647.319824   \n",
       "\n",
       "                              Volume     Tomorrow  Target  \n",
       "Date                                                       \n",
       "1990-01-02 00:00:00+00:00          0  2463.699951       1  \n",
       "1990-01-03 00:00:00+00:00          0  2451.600098       0  \n",
       "1990-01-04 00:00:00+00:00          0  2444.500000       0  \n",
       "1990-01-05 00:00:00+00:00          0  2431.300049       0  \n",
       "1990-01-08 00:00:00+00:00          0  2436.300049       1  \n",
       "...                              ...          ...     ...  \n",
       "2023-12-29 00:00:00+00:00  235460600  7721.500000       0  \n",
       "2024-01-02 00:00:00+00:00  678041300  7682.299805       0  \n",
       "2024-01-03 00:00:00+00:00  857615300  7723.100098       1  \n",
       "2024-01-04 00:00:00+00:00  963235800  7647.319824       0  \n",
       "2024-01-05 00:00:00+00:00          0          NaN       0  \n",
       "\n",
       "[8590 rows x 7 columns]"
      ]
     },
     "execution_count": 12,
     "metadata": {},
     "output_type": "execute_result"
    }
   ],
   "source": [
    "ftse100 = ftse100.loc[\"1990-01-01\":].copy() # Removing data before 1990-01-01\n",
    "ftse100"
   ]
  },
  {
   "cell_type": "code",
   "execution_count": 13,
   "id": "eea23b8f",
   "metadata": {
    "execution": {
     "iopub.execute_input": "2024-01-05T11:01:19.754671Z",
     "iopub.status.busy": "2024-01-05T11:01:19.754239Z",
     "iopub.status.idle": "2024-01-05T11:01:24.609690Z",
     "shell.execute_reply": "2024-01-05T11:01:24.608512Z"
    },
    "papermill": {
     "duration": 4.876277,
     "end_time": "2024-01-05T11:01:24.612145",
     "exception": false,
     "start_time": "2024-01-05T11:01:19.735868",
     "status": "completed"
    },
    "tags": []
   },
   "outputs": [
    {
     "data": {
      "text/html": [
       "<style>#sk-container-id-1 {color: black;background-color: white;}#sk-container-id-1 pre{padding: 0;}#sk-container-id-1 div.sk-toggleable {background-color: white;}#sk-container-id-1 label.sk-toggleable__label {cursor: pointer;display: block;width: 100%;margin-bottom: 0;padding: 0.3em;box-sizing: border-box;text-align: center;}#sk-container-id-1 label.sk-toggleable__label-arrow:before {content: \"▸\";float: left;margin-right: 0.25em;color: #696969;}#sk-container-id-1 label.sk-toggleable__label-arrow:hover:before {color: black;}#sk-container-id-1 div.sk-estimator:hover label.sk-toggleable__label-arrow:before {color: black;}#sk-container-id-1 div.sk-toggleable__content {max-height: 0;max-width: 0;overflow: hidden;text-align: left;background-color: #f0f8ff;}#sk-container-id-1 div.sk-toggleable__content pre {margin: 0.2em;color: black;border-radius: 0.25em;background-color: #f0f8ff;}#sk-container-id-1 input.sk-toggleable__control:checked~div.sk-toggleable__content {max-height: 200px;max-width: 100%;overflow: auto;}#sk-container-id-1 input.sk-toggleable__control:checked~label.sk-toggleable__label-arrow:before {content: \"▾\";}#sk-container-id-1 div.sk-estimator input.sk-toggleable__control:checked~label.sk-toggleable__label {background-color: #d4ebff;}#sk-container-id-1 div.sk-label input.sk-toggleable__control:checked~label.sk-toggleable__label {background-color: #d4ebff;}#sk-container-id-1 input.sk-hidden--visually {border: 0;clip: rect(1px 1px 1px 1px);clip: rect(1px, 1px, 1px, 1px);height: 1px;margin: -1px;overflow: hidden;padding: 0;position: absolute;width: 1px;}#sk-container-id-1 div.sk-estimator {font-family: monospace;background-color: #f0f8ff;border: 1px dotted black;border-radius: 0.25em;box-sizing: border-box;margin-bottom: 0.5em;}#sk-container-id-1 div.sk-estimator:hover {background-color: #d4ebff;}#sk-container-id-1 div.sk-parallel-item::after {content: \"\";width: 100%;border-bottom: 1px solid gray;flex-grow: 1;}#sk-container-id-1 div.sk-label:hover label.sk-toggleable__label {background-color: #d4ebff;}#sk-container-id-1 div.sk-serial::before {content: \"\";position: absolute;border-left: 1px solid gray;box-sizing: border-box;top: 0;bottom: 0;left: 50%;z-index: 0;}#sk-container-id-1 div.sk-serial {display: flex;flex-direction: column;align-items: center;background-color: white;padding-right: 0.2em;padding-left: 0.2em;position: relative;}#sk-container-id-1 div.sk-item {position: relative;z-index: 1;}#sk-container-id-1 div.sk-parallel {display: flex;align-items: stretch;justify-content: center;background-color: white;position: relative;}#sk-container-id-1 div.sk-item::before, #sk-container-id-1 div.sk-parallel-item::before {content: \"\";position: absolute;border-left: 1px solid gray;box-sizing: border-box;top: 0;bottom: 0;left: 50%;z-index: -1;}#sk-container-id-1 div.sk-parallel-item {display: flex;flex-direction: column;z-index: 1;position: relative;background-color: white;}#sk-container-id-1 div.sk-parallel-item:first-child::after {align-self: flex-end;width: 50%;}#sk-container-id-1 div.sk-parallel-item:last-child::after {align-self: flex-start;width: 50%;}#sk-container-id-1 div.sk-parallel-item:only-child::after {width: 0;}#sk-container-id-1 div.sk-dashed-wrapped {border: 1px dashed gray;margin: 0 0.4em 0.5em 0.4em;box-sizing: border-box;padding-bottom: 0.4em;background-color: white;}#sk-container-id-1 div.sk-label label {font-family: monospace;font-weight: bold;display: inline-block;line-height: 1.2em;}#sk-container-id-1 div.sk-label-container {text-align: center;}#sk-container-id-1 div.sk-container {/* jupyter's `normalize.less` sets `[hidden] { display: none; }` but bootstrap.min.css set `[hidden] { display: none !important; }` so we also need the `!important` here to be able to override the default hidden behavior on the sphinx rendered scikit-learn.org. See: https://github.com/scikit-learn/scikit-learn/issues/21755 */display: inline-block !important;position: relative;}#sk-container-id-1 div.sk-text-repr-fallback {display: none;}</style><div id=\"sk-container-id-1\" class=\"sk-top-container\"><div class=\"sk-text-repr-fallback\"><pre>RandomForestClassifier(min_samples_split=100, random_state=1)</pre><b>In a Jupyter environment, please rerun this cell to show the HTML representation or trust the notebook. <br />On GitHub, the HTML representation is unable to render, please try loading this page with nbviewer.org.</b></div><div class=\"sk-container\" hidden><div class=\"sk-item\"><div class=\"sk-estimator sk-toggleable\"><input class=\"sk-toggleable__control sk-hidden--visually\" id=\"sk-estimator-id-1\" type=\"checkbox\" checked><label for=\"sk-estimator-id-1\" class=\"sk-toggleable__label sk-toggleable__label-arrow\">RandomForestClassifier</label><div class=\"sk-toggleable__content\"><pre>RandomForestClassifier(min_samples_split=100, random_state=1)</pre></div></div></div></div></div>"
      ],
      "text/plain": [
       "RandomForestClassifier(min_samples_split=100, random_state=1)"
      ]
     },
     "execution_count": 13,
     "metadata": {},
     "output_type": "execute_result"
    }
   ],
   "source": [
    "## Training an initial ML Model\n",
    "from sklearn.ensemble import RandomForestClassifier #ML Model, it can pickup non-linear realtionships\n",
    "model = RandomForestClassifier(n_estimators=100, min_samples_split=100, random_state=1)\n",
    "train = ftse100.iloc[:-100] \n",
    "test = ftse100.iloc[-100:] # Except the last 100 rows\n",
    "\n",
    "#Simple base line model\n",
    "predictors = [\"Close\", \"Volume\", \"Open\", \"High\", \"Low\"]\n",
    "model.fit(train[predictors], train[\"Target\"])"
   ]
  },
  {
   "cell_type": "code",
   "execution_count": 14,
   "id": "0a7c39bd",
   "metadata": {
    "execution": {
     "iopub.execute_input": "2024-01-05T11:01:24.648309Z",
     "iopub.status.busy": "2024-01-05T11:01:24.647041Z",
     "iopub.status.idle": "2024-01-05T11:01:24.673391Z",
     "shell.execute_reply": "2024-01-05T11:01:24.672290Z"
    },
    "papermill": {
     "duration": 0.046888,
     "end_time": "2024-01-05T11:01:24.676045",
     "exception": false,
     "start_time": "2024-01-05T11:01:24.629157",
     "status": "completed"
    },
    "tags": []
   },
   "outputs": [
    {
     "data": {
      "text/plain": [
       "0.43333333333333335"
      ]
     },
     "execution_count": 14,
     "metadata": {},
     "output_type": "execute_result"
    }
   ],
   "source": [
    "from sklearn.metrics import precision_score\n",
    "preds = model.predict(test[predictors])\n",
    "preds = pd.Series(preds, index=test.index)\n",
    "precision_score(test[\"Target\"], preds)"
   ]
  },
  {
   "cell_type": "code",
   "execution_count": 15,
   "id": "d803e425",
   "metadata": {
    "execution": {
     "iopub.execute_input": "2024-01-05T11:01:24.712620Z",
     "iopub.status.busy": "2024-01-05T11:01:24.712182Z",
     "iopub.status.idle": "2024-01-05T11:01:25.168744Z",
     "shell.execute_reply": "2024-01-05T11:01:25.167742Z"
    },
    "papermill": {
     "duration": 0.477778,
     "end_time": "2024-01-05T11:01:25.171428",
     "exception": false,
     "start_time": "2024-01-05T11:01:24.693650",
     "status": "completed"
    },
    "tags": []
   },
   "outputs": [
    {
     "data": {
      "text/plain": [
       "<Axes: xlabel='Date'>"
      ]
     },
     "execution_count": 15,
     "metadata": {},
     "output_type": "execute_result"
    },
    {
     "data": {
      "image/png": "[encoded data removed]",
      "text/plain": [
       "<Figure size 640x480 with 1 Axes>"
      ]
     },
     "metadata": {},
     "output_type": "display_data"
    }
   ],
   "source": [
    "combined = pd.concat([test[\"Target\"], preds], axis=1)\n",
    "combined.plot()"
   ]
  },
  {
   "cell_type": "code",
   "execution_count": 16,
   "id": "5e567b54",
   "metadata": {
    "execution": {
     "iopub.execute_input": "2024-01-05T11:01:25.210817Z",
     "iopub.status.busy": "2024-01-05T11:01:25.210037Z",
     "iopub.status.idle": "2024-01-05T11:01:25.217123Z",
     "shell.execute_reply": "2024-01-05T11:01:25.216128Z"
    },
    "papermill": {
     "duration": 0.030137,
     "end_time": "2024-01-05T11:01:25.219960",
     "exception": false,
     "start_time": "2024-01-05T11:01:25.189823",
     "status": "completed"
    },
    "tags": []
   },
   "outputs": [],
   "source": [
    "#Building a more accurate model\n",
    "def predict(train, test, predictors, model):\n",
    "    model.fit(train[predictors], train[\"Target\"])\n",
    "    preds = model.predict(test[predictors]) #Generating predictions\n",
    "    preds = pd.Series(preds, index=test.index, name=\"Predictions\")\n",
    "    combined = pd.concat([test[\"Target\"], preds], axis =1)\n",
    "    return combined"
   ]
  },
  {
   "cell_type": "code",
   "execution_count": 17,
   "id": "c5ceb070",
   "metadata": {
    "execution": {
     "iopub.execute_input": "2024-01-05T11:01:25.260683Z",
     "iopub.status.busy": "2024-01-05T11:01:25.259874Z",
     "iopub.status.idle": "2024-01-05T11:01:25.267153Z",
     "shell.execute_reply": "2024-01-05T11:01:25.266081Z"
    },
    "papermill": {
     "duration": 0.030981,
     "end_time": "2024-01-05T11:01:25.270051",
     "exception": false,
     "start_time": "2024-01-05T11:01:25.239070",
     "status": "completed"
    },
    "tags": []
   },
   "outputs": [],
   "source": [
    "def backtest(data, model, predictors, start = 2500, step=250):  #start = 2500, train model with 10 years of data, # step = 250, train a model for a year\n",
    "    all_predictions = []\n",
    "    \n",
    "    for i in range(start, data.shape[0], step):\n",
    "        train = data.iloc[0:i].copy()\n",
    "        test = data.iloc[i:(i+step)].copy()\n",
    "        predictions = predict(train, test, predictors, model)\n",
    "        all_predictions.append(predictions)\n",
    "    return pd.concat(all_predictions)\n",
    "    "
   ]
  },
  {
   "cell_type": "code",
   "execution_count": 18,
   "id": "c6367818",
   "metadata": {
    "execution": {
     "iopub.execute_input": "2024-01-05T11:01:25.310116Z",
     "iopub.status.busy": "2024-01-05T11:01:25.308797Z",
     "iopub.status.idle": "2024-01-05T11:02:13.836317Z",
     "shell.execute_reply": "2024-01-05T11:02:13.834978Z"
    },
    "papermill": {
     "duration": 48.568471,
     "end_time": "2024-01-05T11:02:13.857434",
     "exception": false,
     "start_time": "2024-01-05T11:01:25.288963",
     "status": "completed"
    },
    "tags": []
   },
   "outputs": [
    {
     "data": {
      "text/plain": [
       "Predictions\n",
       "0    3101\n",
       "1    2989\n",
       "Name: count, dtype: int64"
      ]
     },
     "execution_count": 18,
     "metadata": {},
     "output_type": "execute_result"
    }
   ],
   "source": [
    "predictions = backtest(ftse100, model, predictors)\n",
    "predictions[\"Predictions\"].value_counts()"
   ]
  },
  {
   "cell_type": "code",
   "execution_count": 19,
   "id": "234e5a46",
   "metadata": {
    "execution": {
     "iopub.execute_input": "2024-01-05T11:02:13.896775Z",
     "iopub.status.busy": "2024-01-05T11:02:13.896288Z",
     "iopub.status.idle": "2024-01-05T11:02:13.911098Z",
     "shell.execute_reply": "2024-01-05T11:02:13.910026Z"
    },
    "papermill": {
     "duration": 0.037904,
     "end_time": "2024-01-05T11:02:13.913754",
     "exception": false,
     "start_time": "2024-01-05T11:02:13.875850",
     "status": "completed"
    },
    "tags": []
   },
   "outputs": [
    {
     "data": {
      "text/plain": [
       "0.5342924054867849"
      ]
     },
     "execution_count": 19,
     "metadata": {},
     "output_type": "execute_result"
    }
   ],
   "source": [
    "precision_score(predictions[\"Target\"], predictions[\"Predictions\"])"
   ]
  },
  {
   "cell_type": "code",
   "execution_count": 20,
   "id": "9739be08",
   "metadata": {
    "execution": {
     "iopub.execute_input": "2024-01-05T11:02:13.953801Z",
     "iopub.status.busy": "2024-01-05T11:02:13.952759Z",
     "iopub.status.idle": "2024-01-05T11:02:13.961647Z",
     "shell.execute_reply": "2024-01-05T11:02:13.960766Z"
    },
    "papermill": {
     "duration": 0.031494,
     "end_time": "2024-01-05T11:02:13.963952",
     "exception": false,
     "start_time": "2024-01-05T11:02:13.932458",
     "status": "completed"
    },
    "tags": []
   },
   "outputs": [
    {
     "data": {
      "text/plain": [
       "Target\n",
       "1    0.519869\n",
       "0    0.480131\n",
       "Name: count, dtype: float64"
      ]
     },
     "execution_count": 20,
     "metadata": {},
     "output_type": "execute_result"
    }
   ],
   "source": [
    "predictions[\"Target\"].value_counts() / predictions.shape[0]"
   ]
  },
  {
   "cell_type": "code",
   "execution_count": 21,
   "id": "67c7afb3",
   "metadata": {
    "execution": {
     "iopub.execute_input": "2024-01-05T11:02:14.077915Z",
     "iopub.status.busy": "2024-01-05T11:02:14.077451Z",
     "iopub.status.idle": "2024-01-05T11:02:14.175854Z",
     "shell.execute_reply": "2024-01-05T11:02:14.174330Z"
    },
    "papermill": {
     "duration": 0.123356,
     "end_time": "2024-01-05T11:02:14.178814",
     "exception": false,
     "start_time": "2024-01-05T11:02:14.055458",
     "status": "completed"
    },
    "tags": []
   },
   "outputs": [
    {
     "data": {
      "text/html": [
       "<div>\n",
       "<style scoped>\n",
       "    .dataframe tbody tr th:only-of-type {\n",
       "        vertical-align: middle;\n",
       "    }\n",
       "\n",
       "    .dataframe tbody tr th {\n",
       "        vertical-align: top;\n",
       "    }\n",
       "\n",
       "    .dataframe thead th {\n",
       "        text-align: right;\n",
       "    }\n",
       "</style>\n",
       "<table border=\"1\" class=\"dataframe\">\n",
       "  <thead>\n",
       "    <tr style=\"text-align: right;\">\n",
       "      <th></th>\n",
       "      <th>Open</th>\n",
       "      <th>High</th>\n",
       "      <th>Low</th>\n",
       "      <th>Close</th>\n",
       "      <th>Volume</th>\n",
       "      <th>Tomorrow</th>\n",
       "      <th>Target</th>\n",
       "      <th>Close_Ratio_2</th>\n",
       "      <th>Trend_2</th>\n",
       "      <th>Close_Ratio_5</th>\n",
       "      <th>Trend_5</th>\n",
       "      <th>Close_Ratio_60</th>\n",
       "      <th>Trend_60</th>\n",
       "      <th>Close_Ratio_250</th>\n",
       "      <th>Trend_250</th>\n",
       "      <th>Close_Ratio_1000</th>\n",
       "      <th>Trend_1000</th>\n",
       "    </tr>\n",
       "    <tr>\n",
       "      <th>Date</th>\n",
       "      <th></th>\n",
       "      <th></th>\n",
       "      <th></th>\n",
       "      <th></th>\n",
       "      <th></th>\n",
       "      <th></th>\n",
       "      <th></th>\n",
       "      <th></th>\n",
       "      <th></th>\n",
       "      <th></th>\n",
       "      <th></th>\n",
       "      <th></th>\n",
       "      <th></th>\n",
       "      <th></th>\n",
       "      <th></th>\n",
       "      <th></th>\n",
       "      <th></th>\n",
       "    </tr>\n",
       "  </thead>\n",
       "  <tbody>\n",
       "    <tr>\n",
       "      <th>1993-12-15 00:00:00+00:00</th>\n",
       "      <td>3247.699951</td>\n",
       "      <td>3282.500000</td>\n",
       "      <td>3247.699951</td>\n",
       "      <td>3278.800049</td>\n",
       "      <td>0</td>\n",
       "      <td>3311.199951</td>\n",
       "      <td>1</td>\n",
       "      <td>1.004657</td>\n",
       "      <td>1.0</td>\n",
       "      <td>1.004861</td>\n",
       "      <td>1.0</td>\n",
       "      <td>1.046556</td>\n",
       "      <td>31.0</td>\n",
       "      <td>1.114606</td>\n",
       "      <td>123.0</td>\n",
       "      <td>1.288343</td>\n",
       "      <td>491.0</td>\n",
       "    </tr>\n",
       "    <tr>\n",
       "      <th>1993-12-16 00:00:00+00:00</th>\n",
       "      <td>3294.000000</td>\n",
       "      <td>3313.600098</td>\n",
       "      <td>3292.699951</td>\n",
       "      <td>3311.199951</td>\n",
       "      <td>0</td>\n",
       "      <td>3337.100098</td>\n",
       "      <td>1</td>\n",
       "      <td>1.004917</td>\n",
       "      <td>2.0</td>\n",
       "      <td>1.012333</td>\n",
       "      <td>2.0</td>\n",
       "      <td>1.055159</td>\n",
       "      <td>32.0</td>\n",
       "      <td>1.124850</td>\n",
       "      <td>123.0</td>\n",
       "      <td>1.300640</td>\n",
       "      <td>491.0</td>\n",
       "    </tr>\n",
       "    <tr>\n",
       "      <th>1993-12-17 00:00:00+00:00</th>\n",
       "      <td>3329.699951</td>\n",
       "      <td>3350.800049</td>\n",
       "      <td>3329.699951</td>\n",
       "      <td>3337.100098</td>\n",
       "      <td>0</td>\n",
       "      <td>3364.899902</td>\n",
       "      <td>1</td>\n",
       "      <td>1.003896</td>\n",
       "      <td>2.0</td>\n",
       "      <td>1.015545</td>\n",
       "      <td>3.0</td>\n",
       "      <td>1.061541</td>\n",
       "      <td>32.0</td>\n",
       "      <td>1.132887</td>\n",
       "      <td>123.0</td>\n",
       "      <td>1.310358</td>\n",
       "      <td>492.0</td>\n",
       "    </tr>\n",
       "    <tr>\n",
       "      <th>1993-12-20 00:00:00+00:00</th>\n",
       "      <td>3340.300049</td>\n",
       "      <td>3369.000000</td>\n",
       "      <td>3339.000000</td>\n",
       "      <td>3364.899902</td>\n",
       "      <td>0</td>\n",
       "      <td>3342.399902</td>\n",
       "      <td>0</td>\n",
       "      <td>1.004148</td>\n",
       "      <td>2.0</td>\n",
       "      <td>1.017176</td>\n",
       "      <td>4.0</td>\n",
       "      <td>1.068466</td>\n",
       "      <td>32.0</td>\n",
       "      <td>1.141491</td>\n",
       "      <td>124.0</td>\n",
       "      <td>1.320797</td>\n",
       "      <td>493.0</td>\n",
       "    </tr>\n",
       "    <tr>\n",
       "      <th>1993-12-21 00:00:00+00:00</th>\n",
       "      <td>3366.500000</td>\n",
       "      <td>3378.600098</td>\n",
       "      <td>3339.899902</td>\n",
       "      <td>3342.399902</td>\n",
       "      <td>0</td>\n",
       "      <td>3355.699951</td>\n",
       "      <td>1</td>\n",
       "      <td>0.996645</td>\n",
       "      <td>1.0</td>\n",
       "      <td>1.004665</td>\n",
       "      <td>4.0</td>\n",
       "      <td>1.059608</td>\n",
       "      <td>31.0</td>\n",
       "      <td>1.133067</td>\n",
       "      <td>123.0</td>\n",
       "      <td>1.311496</td>\n",
       "      <td>493.0</td>\n",
       "    </tr>\n",
       "    <tr>\n",
       "      <th>...</th>\n",
       "      <td>...</td>\n",
       "      <td>...</td>\n",
       "      <td>...</td>\n",
       "      <td>...</td>\n",
       "      <td>...</td>\n",
       "      <td>...</td>\n",
       "      <td>...</td>\n",
       "      <td>...</td>\n",
       "      <td>...</td>\n",
       "      <td>...</td>\n",
       "      <td>...</td>\n",
       "      <td>...</td>\n",
       "      <td>...</td>\n",
       "      <td>...</td>\n",
       "      <td>...</td>\n",
       "      <td>...</td>\n",
       "      <td>...</td>\n",
       "    </tr>\n",
       "    <tr>\n",
       "      <th>2023-12-28 00:00:00+00:00</th>\n",
       "      <td>7725.000000</td>\n",
       "      <td>7746.000000</td>\n",
       "      <td>7708.700195</td>\n",
       "      <td>7722.700195</td>\n",
       "      <td>327536200</td>\n",
       "      <td>7733.200195</td>\n",
       "      <td>1</td>\n",
       "      <td>0.999851</td>\n",
       "      <td>1.0</td>\n",
       "      <td>1.001502</td>\n",
       "      <td>3.0</td>\n",
       "      <td>1.029392</td>\n",
       "      <td>30.0</td>\n",
       "      <td>1.014141</td>\n",
       "      <td>135.0</td>\n",
       "      <td>1.094345</td>\n",
       "      <td>535.0</td>\n",
       "    </tr>\n",
       "    <tr>\n",
       "      <th>2023-12-29 00:00:00+00:00</th>\n",
       "      <td>7722.700195</td>\n",
       "      <td>7746.899902</td>\n",
       "      <td>7719.000000</td>\n",
       "      <td>7733.200195</td>\n",
       "      <td>235460600</td>\n",
       "      <td>7721.500000</td>\n",
       "      <td>0</td>\n",
       "      <td>1.000679</td>\n",
       "      <td>1.0</td>\n",
       "      <td>1.002408</td>\n",
       "      <td>3.0</td>\n",
       "      <td>1.030058</td>\n",
       "      <td>31.0</td>\n",
       "      <td>1.015424</td>\n",
       "      <td>135.0</td>\n",
       "      <td>1.095811</td>\n",
       "      <td>536.0</td>\n",
       "    </tr>\n",
       "    <tr>\n",
       "      <th>2024-01-02 00:00:00+00:00</th>\n",
       "      <td>7733.200195</td>\n",
       "      <td>7764.399902</td>\n",
       "      <td>7689.000000</td>\n",
       "      <td>7721.500000</td>\n",
       "      <td>678041300</td>\n",
       "      <td>7682.299805</td>\n",
       "      <td>0</td>\n",
       "      <td>0.999243</td>\n",
       "      <td>1.0</td>\n",
       "      <td>1.000197</td>\n",
       "      <td>3.0</td>\n",
       "      <td>1.027883</td>\n",
       "      <td>30.0</td>\n",
       "      <td>1.013815</td>\n",
       "      <td>134.0</td>\n",
       "      <td>1.094137</td>\n",
       "      <td>535.0</td>\n",
       "    </tr>\n",
       "    <tr>\n",
       "      <th>2024-01-03 00:00:00+00:00</th>\n",
       "      <td>7721.500000</td>\n",
       "      <td>7744.600098</td>\n",
       "      <td>7650.299805</td>\n",
       "      <td>7682.299805</td>\n",
       "      <td>857615300</td>\n",
       "      <td>7723.100098</td>\n",
       "      <td>1</td>\n",
       "      <td>0.997455</td>\n",
       "      <td>0.0</td>\n",
       "      <td>0.995511</td>\n",
       "      <td>2.0</td>\n",
       "      <td>1.022239</td>\n",
       "      <td>29.0</td>\n",
       "      <td>1.008642</td>\n",
       "      <td>133.0</td>\n",
       "      <td>1.088573</td>\n",
       "      <td>534.0</td>\n",
       "    </tr>\n",
       "    <tr>\n",
       "      <th>2024-01-04 00:00:00+00:00</th>\n",
       "      <td>7682.299805</td>\n",
       "      <td>7728.200195</td>\n",
       "      <td>7678.799805</td>\n",
       "      <td>7723.100098</td>\n",
       "      <td>963235800</td>\n",
       "      <td>7647.319824</td>\n",
       "      <td>0</td>\n",
       "      <td>1.002648</td>\n",
       "      <td>1.0</td>\n",
       "      <td>1.000848</td>\n",
       "      <td>2.0</td>\n",
       "      <td>1.027142</td>\n",
       "      <td>30.0</td>\n",
       "      <td>1.013987</td>\n",
       "      <td>133.0</td>\n",
       "      <td>1.094342</td>\n",
       "      <td>534.0</td>\n",
       "    </tr>\n",
       "  </tbody>\n",
       "</table>\n",
       "<p>7589 rows × 17 columns</p>\n",
       "</div>"
      ],
      "text/plain": [
       "                                  Open         High          Low        Close  \\\n",
       "Date                                                                            \n",
       "1993-12-15 00:00:00+00:00  3247.699951  3282.500000  3247.699951  3278.800049   \n",
       "1993-12-16 00:00:00+00:00  3294.000000  3313.600098  3292.699951  3311.199951   \n",
       "1993-12-17 00:00:00+00:00  3329.699951  3350.800049  3329.699951  3337.100098   \n",
       "1993-12-20 00:00:00+00:00  3340.300049  3369.000000  3339.000000  3364.899902   \n",
       "1993-12-21 00:00:00+00:00  3366.500000  3378.600098  3339.899902  3342.399902   \n",
       "...                                ...          ...          ...          ...   \n",
       "2023-12-28 00:00:00+00:00  7725.000000  7746.000000  7708.700195  7722.700195   \n",
       "2023-12-29 00:00:00+00:00  7722.700195  7746.899902  7719.000000  7733.200195   \n",
       "2024-01-02 00:00:00+00:00  7733.200195  7764.399902  7689.000000  7721.500000   \n",
       "2024-01-03 00:00:00+00:00  7721.500000  7744.600098  7650.299805  7682.299805   \n",
       "2024-01-04 00:00:00+00:00  7682.299805  7728.200195  7678.799805  7723.100098   \n",
       "\n",
       "                              Volume     Tomorrow  Target  Close_Ratio_2  \\\n",
       "Date                                                                       \n",
       "1993-12-15 00:00:00+00:00          0  3311.199951       1       1.004657   \n",
       "1993-12-16 00:00:00+00:00          0  3337.100098       1       1.004917   \n",
       "1993-12-17 00:00:00+00:00          0  3364.899902       1       1.003896   \n",
       "1993-12-20 00:00:00+00:00          0  3342.399902       0       1.004148   \n",
       "1993-12-21 00:00:00+00:00          0  3355.699951       1       0.996645   \n",
       "...                              ...          ...     ...            ...   \n",
       "2023-12-28 00:00:00+00:00  327536200  7733.200195       1       0.999851   \n",
       "2023-12-29 00:00:00+00:00  235460600  7721.500000       0       1.000679   \n",
       "2024-01-02 00:00:00+00:00  678041300  7682.299805       0       0.999243   \n",
       "2024-01-03 00:00:00+00:00  857615300  7723.100098       1       0.997455   \n",
       "2024-01-04 00:00:00+00:00  963235800  7647.319824       0       1.002648   \n",
       "\n",
       "                           Trend_2  Close_Ratio_5  Trend_5  Close_Ratio_60  \\\n",
       "Date                                                                         \n",
       "1993-12-15 00:00:00+00:00      1.0       1.004861      1.0        1.046556   \n",
       "1993-12-16 00:00:00+00:00      2.0       1.012333      2.0        1.055159   \n",
       "1993-12-17 00:00:00+00:00      2.0       1.015545      3.0        1.061541   \n",
       "1993-12-20 00:00:00+00:00      2.0       1.017176      4.0        1.068466   \n",
       "1993-12-21 00:00:00+00:00      1.0       1.004665      4.0        1.059608   \n",
       "...                            ...            ...      ...             ...   \n",
       "2023-12-28 00:00:00+00:00      1.0       1.001502      3.0        1.029392   \n",
       "2023-12-29 00:00:00+00:00      1.0       1.002408      3.0        1.030058   \n",
       "2024-01-02 00:00:00+00:00      1.0       1.000197      3.0        1.027883   \n",
       "2024-01-03 00:00:00+00:00      0.0       0.995511      2.0        1.022239   \n",
       "2024-01-04 00:00:00+00:00      1.0       1.000848      2.0        1.027142   \n",
       "\n",
       "                           Trend_60  Close_Ratio_250  Trend_250  \\\n",
       "Date                                                              \n",
       "1993-12-15 00:00:00+00:00      31.0         1.114606      123.0   \n",
       "1993-12-16 00:00:00+00:00      32.0         1.124850      123.0   \n",
       "1993-12-17 00:00:00+00:00      32.0         1.132887      123.0   \n",
       "1993-12-20 00:00:00+00:00      32.0         1.141491      124.0   \n",
       "1993-12-21 00:00:00+00:00      31.0         1.133067      123.0   \n",
       "...                             ...              ...        ...   \n",
       "2023-12-28 00:00:00+00:00      30.0         1.014141      135.0   \n",
       "2023-12-29 00:00:00+00:00      31.0         1.015424      135.0   \n",
       "2024-01-02 00:00:00+00:00      30.0         1.013815      134.0   \n",
       "2024-01-03 00:00:00+00:00      29.0         1.008642      133.0   \n",
       "2024-01-04 00:00:00+00:00      30.0         1.013987      133.0   \n",
       "\n",
       "                           Close_Ratio_1000  Trend_1000  \n",
       "Date                                                     \n",
       "1993-12-15 00:00:00+00:00          1.288343       491.0  \n",
       "1993-12-16 00:00:00+00:00          1.300640       491.0  \n",
       "1993-12-17 00:00:00+00:00          1.310358       492.0  \n",
       "1993-12-20 00:00:00+00:00          1.320797       493.0  \n",
       "1993-12-21 00:00:00+00:00          1.311496       493.0  \n",
       "...                                     ...         ...  \n",
       "2023-12-28 00:00:00+00:00          1.094345       535.0  \n",
       "2023-12-29 00:00:00+00:00          1.095811       536.0  \n",
       "2024-01-02 00:00:00+00:00          1.094137       535.0  \n",
       "2024-01-03 00:00:00+00:00          1.088573       534.0  \n",
       "2024-01-04 00:00:00+00:00          1.094342       534.0  \n",
       "\n",
       "[7589 rows x 17 columns]"
      ]
     },
     "execution_count": 21,
     "metadata": {},
     "output_type": "execute_result"
    }
   ],
   "source": [
    "## Adding additional predictors to our model\n",
    "horizons = [2, 5, 60, 250, 1000]\n",
    "new_predictors = []\n",
    "for horizon in horizons:\n",
    "    rolling_averages = ftse100.rolling(horizon).mean()\n",
    "    \n",
    "    ratio_column = f\"Close_Ratio_{horizon}\"\n",
    "    ftse100[ratio_column] = ftse100[\"Close\"] / rolling_averages[\"Close\"]\n",
    "    \n",
    "    trend_column = f\"Trend_{horizon}\"\n",
    "    ftse100[trend_column] = ftse100.shift(1).rolling(horizon).sum()[\"Target\"]\n",
    "    \n",
    "    new_predictors += [ratio_column, trend_column]\n",
    "\n",
    "ftse100 = ftse100.dropna()\n",
    "ftse100"
   ]
  },
  {
   "cell_type": "code",
   "execution_count": 22,
   "id": "2f16dc82",
   "metadata": {
    "execution": {
     "iopub.execute_input": "2024-01-05T11:02:14.220958Z",
     "iopub.status.busy": "2024-01-05T11:02:14.220226Z",
     "iopub.status.idle": "2024-01-05T11:02:14.226152Z",
     "shell.execute_reply": "2024-01-05T11:02:14.224970Z"
    },
    "papermill": {
     "duration": 0.03044,
     "end_time": "2024-01-05T11:02:14.228933",
     "exception": false,
     "start_time": "2024-01-05T11:02:14.198493",
     "status": "completed"
    },
    "tags": []
   },
   "outputs": [],
   "source": [
    "# Improving the model\n",
    "model = RandomForestClassifier(n_estimators=200, min_samples_split=50, random_state=1)"
   ]
  },
  {
   "cell_type": "code",
   "execution_count": 23,
   "id": "4dfca1f5",
   "metadata": {
    "execution": {
     "iopub.execute_input": "2024-01-05T11:02:14.270596Z",
     "iopub.status.busy": "2024-01-05T11:02:14.269756Z",
     "iopub.status.idle": "2024-01-05T11:02:14.277751Z",
     "shell.execute_reply": "2024-01-05T11:02:14.276382Z"
    },
    "papermill": {
     "duration": 0.031528,
     "end_time": "2024-01-05T11:02:14.280198",
     "exception": false,
     "start_time": "2024-01-05T11:02:14.248670",
     "status": "completed"
    },
    "tags": []
   },
   "outputs": [],
   "source": [
    "def predict(train, test, predictors, model):\n",
    "    model.fit(train[predictors], train[\"Target\"])\n",
    "    preds = model.predict_proba(test[predictors])[:,1] #price predicts\n",
    "    preds[preds >=.6] = 1\n",
    "    preds[preds <.6] = 0\n",
    "    preds = pd.Series(preds, index=test.index, name=\"Predictions\")\n",
    "    combined = pd.concat([test[\"Target\"], preds], axis=1)\n",
    "    return combined"
   ]
  },
  {
   "cell_type": "code",
   "execution_count": 24,
   "id": "b09c1387",
   "metadata": {
    "execution": {
     "iopub.execute_input": "2024-01-05T11:02:14.321196Z",
     "iopub.status.busy": "2024-01-05T11:02:14.320759Z",
     "iopub.status.idle": "2024-01-05T11:03:16.144257Z",
     "shell.execute_reply": "2024-01-05T11:03:16.141771Z"
    },
    "papermill": {
     "duration": 61.848421,
     "end_time": "2024-01-05T11:03:16.148309",
     "exception": false,
     "start_time": "2024-01-05T11:02:14.299888",
     "status": "completed"
    },
    "tags": []
   },
   "outputs": [],
   "source": [
    "predictions = backtest(ftse100, model, new_predictors)"
   ]
  },
  {
   "cell_type": "code",
   "execution_count": 25,
   "id": "57d21cf6",
   "metadata": {
    "execution": {
     "iopub.execute_input": "2024-01-05T11:03:16.191767Z",
     "iopub.status.busy": "2024-01-05T11:03:16.191248Z",
     "iopub.status.idle": "2024-01-05T11:03:16.201777Z",
     "shell.execute_reply": "2024-01-05T11:03:16.200447Z"
    },
    "papermill": {
     "duration": 0.036164,
     "end_time": "2024-01-05T11:03:16.205260",
     "exception": false,
     "start_time": "2024-01-05T11:03:16.169096",
     "status": "completed"
    },
    "tags": []
   },
   "outputs": [
    {
     "data": {
      "text/plain": [
       "Predictions\n",
       "0.0    4552\n",
       "1.0     537\n",
       "Name: count, dtype: int64"
      ]
     },
     "execution_count": 25,
     "metadata": {},
     "output_type": "execute_result"
    }
   ],
   "source": [
    "predictions[\"Predictions\"].value_counts()"
   ]
  },
  {
   "cell_type": "code",
   "execution_count": 26,
   "id": "371a21bf",
   "metadata": {
    "execution": {
     "iopub.execute_input": "2024-01-05T11:03:16.247039Z",
     "iopub.status.busy": "2024-01-05T11:03:16.246409Z",
     "iopub.status.idle": "2024-01-05T11:03:16.261044Z",
     "shell.execute_reply": "2024-01-05T11:03:16.260203Z"
    },
    "papermill": {
     "duration": 0.038166,
     "end_time": "2024-01-05T11:03:16.263418",
     "exception": false,
     "start_time": "2024-01-05T11:03:16.225252",
     "status": "completed"
    },
    "tags": []
   },
   "outputs": [
    {
     "data": {
      "text/plain": [
       "0.5307262569832403"
      ]
     },
     "execution_count": 26,
     "metadata": {},
     "output_type": "execute_result"
    }
   ],
   "source": [
    "precision_score(predictions[\"Target\"], predictions[\"Predictions\"])"
   ]
  },
  {
   "cell_type": "markdown",
   "id": "4aa947bc",
   "metadata": {
    "papermill": {
     "duration": 0.022369,
     "end_time": "2024-01-05T11:03:16.305739",
     "exception": false,
     "start_time": "2024-01-05T11:03:16.283370",
     "status": "completed"
    },
    "tags": []
   },
   "source": [
    "After analizing the time series data and historical prices, now we can see that the precision score has come down to 0.5307262569832403 (53.07 %) from 0.5342924054867849 (53.42 %). But it is more accurate than the previous score."
   ]
  },
  {
   "cell_type": "code",
   "execution_count": 27,
   "id": "04a959c3",
   "metadata": {
    "execution": {
     "iopub.execute_input": "2024-01-05T11:03:16.348552Z",
     "iopub.status.busy": "2024-01-05T11:03:16.348131Z",
     "iopub.status.idle": "2024-01-05T11:03:16.358498Z",
     "shell.execute_reply": "2024-01-05T11:03:16.357171Z"
    },
    "papermill": {
     "duration": 0.035643,
     "end_time": "2024-01-05T11:03:16.361340",
     "exception": false,
     "start_time": "2024-01-05T11:03:16.325697",
     "status": "completed"
    },
    "tags": []
   },
   "outputs": [
    {
     "data": {
      "text/plain": [
       "Target\n",
       "1    0.52584\n",
       "0    0.47416\n",
       "Name: count, dtype: float64"
      ]
     },
     "execution_count": 27,
     "metadata": {},
     "output_type": "execute_result"
    }
   ],
   "source": [
    "predictions[\"Target\"].value_counts() / predictions.shape[0]"
   ]
  },
  {
   "cell_type": "markdown",
   "id": "2537a808",
   "metadata": {
    "papermill": {
     "duration": 0.02251,
     "end_time": "2024-01-05T11:03:16.405906",
     "exception": false,
     "start_time": "2024-01-05T11:03:16.383396",
     "status": "completed"
    },
    "tags": []
   },
   "source": [
    "Now, we can also see that the model has predicted 'Target' (Up Prices(1)) to 52.58%, which was 51.98 % earlier."
   ]
  },
  {
   "cell_type": "code",
   "execution_count": 28,
   "id": "f8125952",
   "metadata": {
    "execution": {
     "iopub.execute_input": "2024-01-05T11:03:16.450865Z",
     "iopub.status.busy": "2024-01-05T11:03:16.449853Z",
     "iopub.status.idle": "2024-01-05T11:03:16.466686Z",
     "shell.execute_reply": "2024-01-05T11:03:16.465318Z"
    },
    "papermill": {
     "duration": 0.042778,
     "end_time": "2024-01-05T11:03:16.469922",
     "exception": false,
     "start_time": "2024-01-05T11:03:16.427144",
     "status": "completed"
    },
    "tags": []
   },
   "outputs": [
    {
     "data": {
      "text/html": [
       "<div>\n",
       "<style scoped>\n",
       "    .dataframe tbody tr th:only-of-type {\n",
       "        vertical-align: middle;\n",
       "    }\n",
       "\n",
       "    .dataframe tbody tr th {\n",
       "        vertical-align: top;\n",
       "    }\n",
       "\n",
       "    .dataframe thead th {\n",
       "        text-align: right;\n",
       "    }\n",
       "</style>\n",
       "<table border=\"1\" class=\"dataframe\">\n",
       "  <thead>\n",
       "    <tr style=\"text-align: right;\">\n",
       "      <th></th>\n",
       "      <th>Target</th>\n",
       "      <th>Predictions</th>\n",
       "    </tr>\n",
       "    <tr>\n",
       "      <th>Date</th>\n",
       "      <th></th>\n",
       "      <th></th>\n",
       "    </tr>\n",
       "  </thead>\n",
       "  <tbody>\n",
       "    <tr>\n",
       "      <th>2003-11-10 00:00:00+00:00</th>\n",
       "      <td>1</td>\n",
       "      <td>0.0</td>\n",
       "    </tr>\n",
       "    <tr>\n",
       "      <th>2003-11-11 00:00:00+00:00</th>\n",
       "      <td>1</td>\n",
       "      <td>0.0</td>\n",
       "    </tr>\n",
       "    <tr>\n",
       "      <th>2003-11-12 00:00:00+00:00</th>\n",
       "      <td>1</td>\n",
       "      <td>0.0</td>\n",
       "    </tr>\n",
       "    <tr>\n",
       "      <th>2003-11-13 00:00:00+00:00</th>\n",
       "      <td>1</td>\n",
       "      <td>0.0</td>\n",
       "    </tr>\n",
       "    <tr>\n",
       "      <th>2003-11-14 00:00:00+00:00</th>\n",
       "      <td>0</td>\n",
       "      <td>0.0</td>\n",
       "    </tr>\n",
       "    <tr>\n",
       "      <th>...</th>\n",
       "      <td>...</td>\n",
       "      <td>...</td>\n",
       "    </tr>\n",
       "    <tr>\n",
       "      <th>2023-12-28 00:00:00+00:00</th>\n",
       "      <td>1</td>\n",
       "      <td>0.0</td>\n",
       "    </tr>\n",
       "    <tr>\n",
       "      <th>2023-12-29 00:00:00+00:00</th>\n",
       "      <td>0</td>\n",
       "      <td>0.0</td>\n",
       "    </tr>\n",
       "    <tr>\n",
       "      <th>2024-01-02 00:00:00+00:00</th>\n",
       "      <td>0</td>\n",
       "      <td>0.0</td>\n",
       "    </tr>\n",
       "    <tr>\n",
       "      <th>2024-01-03 00:00:00+00:00</th>\n",
       "      <td>1</td>\n",
       "      <td>0.0</td>\n",
       "    </tr>\n",
       "    <tr>\n",
       "      <th>2024-01-04 00:00:00+00:00</th>\n",
       "      <td>0</td>\n",
       "      <td>0.0</td>\n",
       "    </tr>\n",
       "  </tbody>\n",
       "</table>\n",
       "<p>5089 rows × 2 columns</p>\n",
       "</div>"
      ],
      "text/plain": [
       "                           Target  Predictions\n",
       "Date                                          \n",
       "2003-11-10 00:00:00+00:00       1          0.0\n",
       "2003-11-11 00:00:00+00:00       1          0.0\n",
       "2003-11-12 00:00:00+00:00       1          0.0\n",
       "2003-11-13 00:00:00+00:00       1          0.0\n",
       "2003-11-14 00:00:00+00:00       0          0.0\n",
       "...                           ...          ...\n",
       "2023-12-28 00:00:00+00:00       1          0.0\n",
       "2023-12-29 00:00:00+00:00       0          0.0\n",
       "2024-01-02 00:00:00+00:00       0          0.0\n",
       "2024-01-03 00:00:00+00:00       1          0.0\n",
       "2024-01-04 00:00:00+00:00       0          0.0\n",
       "\n",
       "[5089 rows x 2 columns]"
      ]
     },
     "execution_count": 28,
     "metadata": {},
     "output_type": "execute_result"
    }
   ],
   "source": [
    "predictions"
   ]
  },
  {
   "cell_type": "code",
   "execution_count": 29,
   "id": "a9200aea",
   "metadata": {
    "execution": {
     "iopub.execute_input": "2024-01-05T11:03:16.515260Z",
     "iopub.status.busy": "2024-01-05T11:03:16.514819Z",
     "iopub.status.idle": "2024-01-05T11:03:16.595751Z",
     "shell.execute_reply": "2024-01-05T11:03:16.594549Z"
    },
    "papermill": {
     "duration": 0.10809,
     "end_time": "2024-01-05T11:03:16.598871",
     "exception": false,
     "start_time": "2024-01-05T11:03:16.490781",
     "status": "completed"
    },
    "tags": []
   },
   "outputs": [],
   "source": [
    "predictions.to_csv('FTSEpredictions.csv', index=False)"
   ]
  },
  {
   "cell_type": "code",
   "execution_count": null,
   "id": "0d5c72a5",
   "metadata": {
    "papermill": {
     "duration": 0.02102,
     "end_time": "2024-01-05T11:03:16.640958",
     "exception": false,
     "start_time": "2024-01-05T11:03:16.619938",
     "status": "completed"
    },
    "tags": []
   },
   "outputs": [],
   "source": []
  }
 ],
 "metadata": {
  "kaggle": {
   "accelerator": "none",
   "dataSources": [],
   "dockerImageVersionId": 30626,
   "isGpuEnabled": false,
   "isInternetEnabled": true,
   "language": "python",
   "sourceType": "notebook"
  },
  "kernelspec": {
   "display_name": "Python 3",
   "language": "python",
   "name": "python3"
  },
  "language_info": {
   "codemirror_mode": {
    "name": "ipython",
    "version": 3
   },
   "file_extension": ".py",
   "mimetype": "text/x-python",
   "name": "python",
   "nbconvert_exporter": "python",
   "pygments_lexer": "ipython3",
   "version": "3.10.12"
  },
  "papermill": {
   "default_parameters": {},
   "duration": 187.55252,
   "end_time": "2024-01-05T11:03:17.484898",
   "environment_variables": {},
   "exception": null,
   "input_path": "__notebook__.ipynb",
   "output_path": "__notebook__.ipynb",
   "parameters": {},
   "start_time": "2024-01-05T11:00:09.932378",
   "version": "2.4.0"
  }
 },
 "nbformat": 4,
 "nbformat_minor": 5
}
